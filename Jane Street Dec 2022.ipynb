{
 "cells": [
  {
   "cell_type": "code",
   "execution_count": 1,
   "id": "51be2330",
   "metadata": {},
   "outputs": [],
   "source": [
    "# A six-sided die, with numbers written on each of its faces, is placed on the 6-by-6 grid above, \n",
    "# in the lower-left (yellow) corner. It then makes a sequence of “moves”. \n",
    "# Each move consists of tipping the die into an orthogonally adjacent square within the grid.\n",
    "\n",
    "# The die starts with a “score” of 0. On the Nth move, \n",
    "# its score increases by N times the value of the die facing up after the move. \n",
    "\n",
    "# However, the die is only allowed to move into a square if its score after the move matches the value in the square. \n",
    "# Also, the die cannot be translated or rotated in place in addition to these moves.\n",
    "\n",
    "# After some number of moves the die arrives in the upper-right (blue) corner.\n",
    "\n",
    "# The answer to this puzzle is the sum of values in the unvisited squares from the die’s journey."
   ]
  },
  {
   "cell_type": "code",
   "execution_count": 2,
   "id": "0498064c",
   "metadata": {},
   "outputs": [],
   "source": [
    "numbers = [[57,33,132,268,492,732],\n",
    "           [81,123,240,443,353,508],\n",
    "           [186,42,195,704,452,228],\n",
    "           [-7,2,357,452,317,395],\n",
    "           [5,23,-4,592,445,620],\n",
    "           [0,77,32,403,337,452]]"
   ]
  },
  {
   "cell_type": "code",
   "execution_count": 3,
   "id": "d4d1cc2d",
   "metadata": {},
   "outputs": [],
   "source": [
    "# if movement on x-axis \n",
    "def get_new_dice_config(die_config, die_coordi, new_coordi_for_possible_values):\n",
    "\n",
    "    horizontal = die_config[0].copy()\n",
    "    vertical = die_config[1].copy()\n",
    "    \n",
    "    previous_positionX = die_coordi[0]\n",
    "    previous_positionY = die_coordi[1]\n",
    "\n",
    "    current_positionX = new_coordi_for_possible_values[0]\n",
    "    current_positionY = new_coordi_for_possible_values[1]\n",
    "    \n",
    "    new_horizontal = []\n",
    "    new_vertical = []  \n",
    "    \n",
    "    if previous_positionY > current_positionY:\n",
    "        for i in horizontal:\n",
    "            if i == horizontal[-1]:\n",
    "                new_horizontal.insert(0, i)\n",
    "            else:\n",
    "                new_horizontal.insert((horizontal.index(i) + 1), i)\n",
    "        horizontal = new_horizontal\n",
    "        vertical[1] = horizontal[1] \n",
    "        \n",
    "    elif previous_positionY < current_positionY:\n",
    "        for i in horizontal:\n",
    "            new_horizontal.insert((horizontal.index(i) - 1), i)\n",
    "        horizontal = new_horizontal\n",
    "        vertical[1] = horizontal[1] \n",
    "\n",
    "    elif previous_positionX < current_positionX:\n",
    "        for i in vertical:\n",
    "            new_vertical.insert((vertical.index(i) - 1), i)\n",
    "        vertical = new_vertical\n",
    "        horizontal[1] = vertical[1]\n",
    "        vertical_pop = vertical.pop(-1)\n",
    "        horizontal_pop = horizontal.pop(-1)\n",
    "        horizontal.append(vertical_pop)\n",
    "        vertical.append(horizontal_pop)\n",
    "\n",
    "    elif previous_positionX > current_positionX:\n",
    "        for i in vertical:\n",
    "            if i == vertical[-1]:\n",
    "                new_vertical.insert(0, i)\n",
    "            else:\n",
    "                new_vertical.insert((vertical.index(i) + 1), i)\n",
    "        vertical = new_vertical\n",
    "        horizontal[1] = vertical[1]\n",
    "        vertical_pop = vertical.pop(0)\n",
    "        horizontal_pop = horizontal.pop(-1)\n",
    "        horizontal.append(vertical_pop)\n",
    "        vertical.insert(0, horizontal_pop)\n",
    "        \n",
    "    if len(set(horizontal)) < 4:\n",
    "        return horizontal\n",
    "    if len(set(vertical)) < 3:\n",
    "        return vertical\n",
    "    new_die_config = [horizontal, vertical]\n",
    "\n",
    "    return new_die_config"
   ]
  },
  {
   "cell_type": "code",
   "execution_count": 4,
   "id": "faa84200",
   "metadata": {},
   "outputs": [],
   "source": [
    "def get_possible_values_from_coordi(li):\n",
    "    x, y = li\n",
    "    possible_values = {}\n",
    "    if x+1 <= 5:\n",
    "        possible_values[str(numbers[x+1][y])+'p1'] = [x+1, y]\n",
    "    if y+1 <= 5:    \n",
    "        possible_values[str(numbers[x][y+1])+'p2'] = [x, y+1]\n",
    "    if x-1 >= 0:\n",
    "        possible_values[str(numbers[x-1][y])+'p3'] = [x-1, y]\n",
    "    if y-1 >= 0:\n",
    "        possible_values[str(numbers[x][y-1])+'p4'] = [x, y-1]\n",
    "    return possible_values       "
   ]
  },
  {
   "cell_type": "code",
   "execution_count": 5,
   "id": "3dfc5a9a",
   "metadata": {},
   "outputs": [],
   "source": [
    "def get_opposite_face(current_touching_face):\n",
    "    if current_touching_face == 'n1':\n",
    "        return 'n3'\n",
    "    if current_touching_face == 'n2':\n",
    "        return 'n4'\n",
    "    if current_touching_face == 'n3':\n",
    "        return 'n1'\n",
    "    if current_touching_face == 'n4':\n",
    "        return 'n2'\n",
    "    if current_touching_face == 'n5':\n",
    "        return 'n6'\n",
    "    if current_touching_face == 'n6':\n",
    "        return 'n5'"
   ]
  },
  {
   "cell_type": "code",
   "execution_count": 6,
   "id": "55c51cd0",
   "metadata": {},
   "outputs": [],
   "source": [
    "inital_values_of_faces = {'n1':None, 'n2':None, 'n3':None, 'n4':None, 'n5':None, 'n6':None}"
   ]
  },
  {
   "cell_type": "code",
   "execution_count": 7,
   "id": "2f4ef850",
   "metadata": {},
   "outputs": [],
   "source": [
    "parent_list = []\n",
    "die_config = [['n4','n1','n2','n3'], ['n5', 'n1', 'n6']]"
   ]
  },
  {
   "cell_type": "code",
   "execution_count": 8,
   "id": "b4704260",
   "metadata": {},
   "outputs": [],
   "source": [
    "variable_for_each_iteration = [0, 0, [5,0], die_config, inital_values_of_faces, [[5,0]]]\n",
    "parent_list.append(variable_for_each_iteration)"
   ]
  },
  {
   "cell_type": "code",
   "execution_count": 9,
   "id": "6b549062",
   "metadata": {},
   "outputs": [],
   "source": [
    "while parent_list:\n",
    "    child_list = []\n",
    "    for i in parent_list:\n",
    "#       Unpacking\n",
    "        current_move = i[0]\n",
    "        current_sum = i[1]\n",
    "        die_coordi = i[2]\n",
    "        die_config = i[3]\n",
    "        faces_to_numbers = i[4]\n",
    "        positions_visited = i[5]\n",
    "\n",
    "        possible_values = get_possible_values_from_coordi(die_coordi)\n",
    "#       possible_values = numbers:coordinates \n",
    "        for values in possible_values:\n",
    "                possbile_new_coordinates = possible_values[values]\n",
    "                new_die_config = get_new_dice_config(die_config, die_coordi, possbile_new_coordinates)\n",
    "                new_die_touching_face = new_die_config[0][1]\n",
    "                \n",
    "                opposite_face = get_opposite_face(new_die_touching_face)\n",
    "                new_move_count = current_move + 1\n",
    "                new_faces_to_numbers = faces_to_numbers.copy()\n",
    "\n",
    "                if new_faces_to_numbers[opposite_face] == None:\n",
    "                        new_faces_to_numbers[opposite_face] = (int(values[:-2])-current_sum)/new_move_count \n",
    "                new_sum = current_sum + new_faces_to_numbers[opposite_face]*new_move_count\n",
    "                \n",
    "                if new_sum == int(values[:-2]):\n",
    "                    new_positions_visited = positions_visited.copy()\n",
    "                    new_positions_visited.append(possbile_new_coordinates)   \n",
    "                    child_list.append([new_move_count, new_sum, possbile_new_coordinates, new_die_config,\n",
    "                                       new_faces_to_numbers, new_positions_visited])\n",
    "                    if new_sum == 732:\n",
    "                        break\n",
    "            \n",
    "                elif new_sum != values:\n",
    "                    continue\n",
    "                else:\n",
    "                    print(\"logic error\")\n",
    "\n",
    "    if child_list == []:\n",
    "        break\n",
    "    parent_list = child_list   "
   ]
  },
  {
   "cell_type": "code",
   "execution_count": 10,
   "id": "8c80456f",
   "metadata": {},
   "outputs": [],
   "source": [
    "repeated_removed_list = []\n",
    "total_places_visited = 0\n",
    "for i in parent_list[0][-1]:\n",
    "    if i not in repeated_removed_list:\n",
    "        total_places_visited += numbers[i[0]][i[1]]\n",
    "        repeated_removed_list.append(i)"
   ]
  },
  {
   "cell_type": "code",
   "execution_count": 11,
   "id": "37b5dd2d",
   "metadata": {},
   "outputs": [
    {
     "data": {
      "text/plain": [
       "9767"
      ]
     },
     "execution_count": 11,
     "metadata": {},
     "output_type": "execute_result"
    }
   ],
   "source": [
    "total_of_all_places = 0\n",
    "for i in numbers:\n",
    "    for j in i:\n",
    "        total_of_all_places += j\n",
    "total_of_all_places"
   ]
  },
  {
   "cell_type": "code",
   "execution_count": 12,
   "id": "c3a7a2e2",
   "metadata": {},
   "outputs": [
    {
     "data": {
      "text/plain": [
       "1935"
      ]
     },
     "execution_count": 12,
     "metadata": {},
     "output_type": "execute_result"
    }
   ],
   "source": [
    "total_of_all_places - total_places_visited"
   ]
  }
 ],
 "metadata": {
  "kernelspec": {
   "display_name": "Python 3 (ipykernel)",
   "language": "python",
   "name": "python3"
  },
  "language_info": {
   "codemirror_mode": {
    "name": "ipython",
    "version": 3
   },
   "file_extension": ".py",
   "mimetype": "text/x-python",
   "name": "python",
   "nbconvert_exporter": "python",
   "pygments_lexer": "ipython3",
   "version": "3.9.13"
  }
 },
 "nbformat": 4,
 "nbformat_minor": 5
}
